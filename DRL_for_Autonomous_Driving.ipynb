{
 "cells": [
  {
   "cell_type": "markdown",
   "id": "8630e809-fac4-4425-b9fc-70904ce398e6",
   "metadata": {},
   "source": [
    "# RL for Self Driving Car"
   ]
  },
  {
   "cell_type": "code",
   "execution_count": null,
   "id": "94f3279a-7fd7-451a-9157-8614f96eb6eb",
   "metadata": {},
   "outputs": [],
   "source": [
    "#Install SWIG https://sourceforge.net/projects/swig/files/swigwin/swigwin-4.0.2/swigwin-4.0.2.zip/download?use_mirror=ixpeering"
   ]
  },
  {
   "cell_type": "code",
   "execution_count": null,
   "id": "b515f22a-6153-4d6a-a1e1-f27bae3ea343",
   "metadata": {},
   "outputs": [],
   "source": [
    "# !pip install gym[box2d] pyglet==1.3.2"
   ]
  },
  {
   "cell_type": "code",
   "execution_count": null,
   "id": "b396490d-f118-4cdb-8e93-f143762e96f4",
   "metadata": {},
   "outputs": [],
   "source": [
    "import gym \n",
    "from stable_baselines3 import PPO\n",
    "from stable_baselines3.common.vec_env import VecFrameStack\n",
    "from stable_baselines3.common.evaluation import evaluate_policy\n",
    "import os"
   ]
  },
  {
   "cell_type": "markdown",
   "id": "2a71498f-fe3d-44d3-8563-da1a6d5a7699",
   "metadata": {},
   "source": [
    "# 2. Test Environment"
   ]
  },
  {
   "cell_type": "code",
   "execution_count": null,
   "id": "25ff5312-b6b1-4b8d-9252-8162550f5c9d",
   "metadata": {},
   "outputs": [],
   "source": [
    "environment_name = \"CarRacing-v0\""
   ]
  },
  {
   "cell_type": "code",
   "execution_count": null,
   "id": "3dfa934e-d048-4b2e-9ef3-94d1072c51ea",
   "metadata": {},
   "outputs": [],
   "source": [
    "env = gym.make(environment_name)"
   ]
  },
  {
   "cell_type": "code",
   "execution_count": null,
   "id": "a12e6821-557b-4a1c-89e7-50194a2fa69c",
   "metadata": {},
   "outputs": [],
   "source": [
    "episodes = 5\n",
    "for episode in range(1, episodes+1):\n",
    "    state = env.reset()\n",
    "    done = False\n",
    "    score = 0 \n",
    "    \n",
    "    while not done:\n",
    "        env.render()\n",
    "        action = env.action_space.sample()\n",
    "        n_state, reward, done, info = env.step(action)\n",
    "        score+=reward\n",
    "    print('Episode:{} Score:{}'.format(episode, score))\n",
    "env.close()"
   ]
  },
  {
   "cell_type": "code",
   "execution_count": null,
   "id": "2145a8ad-723e-49c8-a000-7a8dedd6a727",
   "metadata": {},
   "outputs": [],
   "source": [
    "env.close()"
   ]
  },
  {
   "cell_type": "code",
   "execution_count": null,
   "id": "43fb30c7-e367-4d1e-9c8c-5e69b3a4811b",
   "metadata": {},
   "outputs": [],
   "source": [
    "env.action_space.sample()"
   ]
  },
  {
   "cell_type": "code",
   "execution_count": null,
   "id": "23418649-cb7d-4ac2-8bc4-46bb44684c83",
   "metadata": {},
   "outputs": [],
   "source": [
    "env.observation_space.sample()"
   ]
  },
  {
   "cell_type": "markdown",
   "id": "49f745f7-5565-4f4e-90c8-d981637108a9",
   "metadata": {},
   "source": [
    "# 3. Train Model"
   ]
  },
  {
   "cell_type": "code",
   "execution_count": null,
   "id": "85ec3415",
   "metadata": {},
   "outputs": [],
   "source": [
    "env = gym.make(\"CarRacing-v0\")\n",
    "env=DummyVecEnv(env)"
   ]
  },
  {
   "cell_type": "code",
   "execution_count": null,
   "id": "cf3eae39-bf39-4ec8-bd10-f776e8ab8a73",
   "metadata": {},
   "outputs": [],
   "source": [
    "log_path = os.path.join('pytorch_RL', 'Logs')"
   ]
  },
  {
   "cell_type": "code",
   "execution_count": null,
   "id": "3ec816b6-2592-48a6-a548-0a19fd2c7f2a",
   "metadata": {},
   "outputs": [],
   "source": [
    "model = PPO(\"CnnPolicy\", env, verbose=1, tensorboard_log=log_path)"
   ]
  },
  {
   "cell_type": "code",
   "execution_count": null,
   "id": "b8cf1c61-adaf-4eda-9322-385e1ea75b1d",
   "metadata": {},
   "outputs": [],
   "source": [
    "model.learn(total_timesteps=40000)"
   ]
  },
  {
   "cell_type": "markdown",
   "id": "45a14d94-2d7e-4d5b-a246-4e2cc178dbea",
   "metadata": {},
   "source": [
    "# 4. Save Model "
   ]
  },
  {
   "cell_type": "code",
   "execution_count": null,
   "id": "0783a17e-eb90-4692-bada-2ef9e338d06e",
   "metadata": {},
   "outputs": [],
   "source": [
    "ppo_path = os.path.join('pytorch_RL', 'Saved Models', 'PPO_Driving_model')"
   ]
  },
  {
   "cell_type": "code",
   "execution_count": null,
   "id": "8dc23c91-e069-4773-a1b7-ce64f792e253",
   "metadata": {},
   "outputs": [],
   "source": [
    "model.save(ppo_path)"
   ]
  },
  {
   "cell_type": "markdown",
   "id": "df145e1d-9539-46c0-b132-a5e296203f41",
   "metadata": {},
   "source": [
    "# 5. Evaluate and Test"
   ]
  },
  {
   "cell_type": "code",
   "execution_count": null,
   "id": "cfeade14-4fe5-4e22-8050-859920ce6ec1",
   "metadata": {},
   "outputs": [],
   "source": [
    "evaluate_policy(model, env, n_eval_episodes=10, render=True)"
   ]
  },
  {
   "cell_type": "code",
   "execution_count": null,
   "id": "8a40f7fd-a5eb-40a0-b775-81806ff2ffa6",
   "metadata": {},
   "outputs": [],
   "source": [
    "env.close()"
   ]
  },
  {
   "cell_type": "code",
   "execution_count": null,
   "id": "0c6ef7b2-1cb1-42c4-878a-669898bf7856",
   "metadata": {},
   "outputs": [],
   "source": [
    "obs = env.reset()\n",
    "while True:\n",
    "    action, _states = model.predict(obs)\n",
    "    obs, rewards, dones, info = env.step(action)\n",
    "    env.render()"
   ]
  },
  {
   "cell_type": "code",
   "execution_count": null,
   "id": "c25bfa84-3f04-4f0f-a470-ad8773dbfff7",
   "metadata": {},
   "outputs": [],
   "source": [
    "env.close()"
   ]
  }
 ],
 "metadata": {
  "kernelspec": {
   "display_name": "Python [conda env:.conda-primal2]",
   "language": "python",
   "name": "conda-env-.conda-primal2-py"
  },
  "language_info": {
   "codemirror_mode": {
    "name": "ipython",
    "version": 3
   },
   "file_extension": ".py",
   "mimetype": "text/x-python",
   "name": "python",
   "nbconvert_exporter": "python",
   "pygments_lexer": "ipython3",
   "version": "3.5.6"
  }
 },
 "nbformat": 4,
 "nbformat_minor": 5
}
